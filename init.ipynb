{
 "cells": [
  {
   "cell_type": "code",
   "execution_count": 6,
   "metadata": {},
   "outputs": [],
   "source": [
    "from pyspark import SparkConf, SparkContext\n",
    "\n",
    "from pyspark.sql import SparkSession\n",
    "from pyspark.sql.types import StructType, StructField, IntegerType, StringType, TimestampType, DateType, DecimalType, DoubleType\n",
    "from pyspark.sql import functions as F"
   ]
  },
  {
   "cell_type": "code",
   "execution_count": 7,
   "metadata": {},
   "outputs": [],
   "source": [
    "spark = SparkSession \\\n",
    "    .builder \\\n",
    "    .appName(\"init\") \\\n",
    "    .config(\"spark.mongodb.output.uri\", \"mongodb://127.0.0.1/hotel.raw\") \\\n",
    "    .config('spark.jars.packages', 'org.mongodb.spark:mongo-spark-connector_2.11:2.4.1') \\\n",
    "    .getOrCreate()"
   ]
  },
  {
   "cell_type": "code",
   "execution_count": 8,
   "metadata": {},
   "outputs": [],
   "source": [
    "schema = StructType([\n",
    "    StructField(\"Hotel_Address\", StringType(), True),\n",
    "    StructField(\"Additional_Number_of_Scoring\", IntegerType(), True),\n",
    "    StructField(\"Review_Date\", TimestampType(), True),\n",
    "    StructField(\"Average_Score\", DoubleType(), True),\n",
    "    StructField(\"Hotel_Name\", StringType(), True),\n",
    "    StructField(\"Reviewer_Nationality\", StringType(), True),\n",
    "    StructField(\"Negative_Review\", StringType(), True),\n",
    "    StructField(\"Review_Total_Negative_Word_Counts\", IntegerType(), True),\n",
    "    StructField(\"Total_Number_of_Reviews\", IntegerType(), True),\n",
    "    StructField(\"Positive_Review\", StringType(), True),\n",
    "    StructField(\"Review_Total_Positive_Word_Counts\", IntegerType(), True),\n",
    "    StructField(\"Total_Number_of_Reviews_Reviewer_Has_Given\", IntegerType(), True),\n",
    "    StructField(\"Reviewer_Score\", DoubleType(), True),\n",
    "    StructField(\"Tags\", StringType(), True),\n",
    "    StructField(\"days_since_review\", StringType(), True),\n",
    "    StructField(\"lat\", DecimalType(9,7), True),\n",
    "    StructField(\"lng\", DecimalType(8,7), True),\n",
    "])\n",
    "\n",
    "raw_reviews = spark \\\n",
    "    .read.format(\"csv\") \\\n",
    "    .schema(schema) \\\n",
    "    .option(\"dateFormat\", \"MM/dd/yyyy\") \\\n",
    "    .option(\"timestampFormat\", \"MM/dd/yyyy\") \\\n",
    "    .option(\"header\", \"true\") \\\n",
    "    .load(\"Hotel_Reviews.csv\")"
   ]
  },
  {
   "cell_type": "code",
   "execution_count": 9,
   "metadata": {
    "scrolled": false
   },
   "outputs": [
    {
     "name": "stdout",
     "output_type": "stream",
     "text": [
      "+--------------------+----------------------------+-------------------+-------------+-----------+--------------------+--------------------+---------------------------------+-----------------------+--------------------+---------------------------------+------------------------------------------+--------------+--------------------+-----------------+----------+---------+\n",
      "|       Hotel_Address|Additional_Number_of_Scoring|        Review_Date|Average_Score| Hotel_Name|Reviewer_Nationality|     Negative_Review|Review_Total_Negative_Word_Counts|Total_Number_of_Reviews|     Positive_Review|Review_Total_Positive_Word_Counts|Total_Number_of_Reviews_Reviewer_Has_Given|Reviewer_Score|                Tags|days_since_review|       lat|      lng|\n",
      "+--------------------+----------------------------+-------------------+-------------+-----------+--------------------+--------------------+---------------------------------+-----------------------+--------------------+---------------------------------+------------------------------------------+--------------+--------------------+-----------------+----------+---------+\n",
      "| s Gravesandestra...|                         194|2017-08-03 00:00:00|          7.7|Hotel Arena|             Russia | I am so angry th...|                              397|                   1403| Only the park ou...|                               11|                                         7|           2.9|[' Leisure trip '...|           0 days|52.3605759|4.9159683|\n",
      "| s Gravesandestra...|                         194|2017-08-03 00:00:00|          7.7|Hotel Arena|            Ireland |         No Negative|                                0|                   1403| No real complain...|                              105|                                         7|           7.5|[' Leisure trip '...|           0 days|52.3605759|4.9159683|\n",
      "| s Gravesandestra...|                         194|2017-07-31 00:00:00|          7.7|Hotel Arena|          Australia | Rooms are nice b...|                               42|                   1403| Location was goo...|                               21|                                         9|           7.1|[' Leisure trip '...|           3 days|52.3605759|4.9159683|\n",
      "| s Gravesandestra...|                         194|2017-07-31 00:00:00|          7.7|Hotel Arena|     United Kingdom | My room was dirt...|                              210|                   1403| Great location i...|                               26|                                         1|           3.8|[' Leisure trip '...|           3 days|52.3605759|4.9159683|\n",
      "| s Gravesandestra...|                         194|2017-07-24 00:00:00|          7.7|Hotel Arena|        New Zealand | You When I booke...|                              140|                   1403| Amazing location...|                                8|                                         3|           6.7|[' Leisure trip '...|          10 days|52.3605759|4.9159683|\n",
      "| s Gravesandestra...|                         194|2017-07-24 00:00:00|          7.7|Hotel Arena|             Poland | Backyard of the ...|                               17|                   1403| Good restaurant ...|                               20|                                         1|           6.7|[' Leisure trip '...|          10 days|52.3605759|4.9159683|\n",
      "| s Gravesandestra...|                         194|2017-07-17 00:00:00|          7.7|Hotel Arena|     United Kingdom | Cleaner did not ...|                               33|                   1403| The room is spac...|                               18|                                         6|           4.6|[' Leisure trip '...|          17 days|52.3605759|4.9159683|\n",
      "| s Gravesandestra...|                         194|2017-07-17 00:00:00|          7.7|Hotel Arena|     United Kingdom | Apart from the p...|                               11|                   1403| Good location Se...|                               19|                                         1|          10.0|[' Leisure trip '...|          17 days|52.3605759|4.9159683|\n",
      "| s Gravesandestra...|                         194|2017-07-09 00:00:00|          7.7|Hotel Arena|            Belgium | Even though the ...|                               34|                   1403|         No Positive|                                0|                                         3|           6.5|[' Leisure trip '...|          25 days|52.3605759|4.9159683|\n",
      "| s Gravesandestra...|                         194|2017-07-08 00:00:00|          7.7|Hotel Arena|             Norway | The aircondition...|                               15|                   1403| The room was big...|                               50|                                         1|           7.9|[' Leisure trip '...|          26 days|52.3605759|4.9159683|\n",
      "| s Gravesandestra...|                         194|2017-07-07 00:00:00|          7.7|Hotel Arena|     United Kingdom |  Nothing all great |                                5|                   1403| Rooms were stunn...|                              101|                                         2|          10.0|[' Leisure trip '...|          27 days|52.3605759|4.9159683|\n",
      "| s Gravesandestra...|                         194|2017-07-06 00:00:00|          7.7|Hotel Arena|             France | 6 30 AM started ...|                               75|                   1403| Style location r...|                                4|                                        12|           5.8|[' Business trip ...|          28 days|52.3605759|4.9159683|\n",
      "| s Gravesandestra...|                         194|2017-07-06 00:00:00|          7.7|Hotel Arena|     United Kingdom | The floor in my ...|                               28|                   1403| Comfy bed good l...|                                6|                                         7|           4.6|[' Leisure trip '...|          28 days|52.3605759|4.9159683|\n",
      "| s Gravesandestra...|                         194|2017-07-04 00:00:00|          7.7|Hotel Arena|              Italy |         No Negative|                                0|                   1403| This hotel is be...|                               59|                                         6|           9.2|[' Business trip ...|          30 days|52.3605759|4.9159683|\n",
      "| s Gravesandestra...|                         194|2017-07-04 00:00:00|          7.7|Hotel Arena|             Canada | The staff in the...|                               35|                   1403| It was very good...|                               15|                                         1|           8.8|[' Leisure trip '...|          30 days|52.3605759|4.9159683|\n",
      "| s Gravesandestra...|                         194|2017-07-03 00:00:00|          7.7|Hotel Arena|              Italy |         No Negative|                                0|                   1403| This hotel is aw...|                               82|                                        26|          10.0|[' Leisure trip '...|          31 days|52.3605759|4.9159683|\n",
      "| s Gravesandestra...|                         194|2017-07-03 00:00:00|          7.7|Hotel Arena|     United Kingdom | Very steep steps...|                               38|                   1403| Great onsite caf...|                               14|                                         8|           6.3|[' Leisure trip '...|          31 days|52.3605759|4.9159683|\n",
      "| s Gravesandestra...|                         194|2017-06-30 00:00:00|          7.7|Hotel Arena|            Ireland | We did not like ...|                               59|                   1403| We loved the loc...|                               64|                                         2|           7.5|[' Leisure trip '...|          34 days|52.3605759|4.9159683|\n",
      "| s Gravesandestra...|                         194|2017-06-29 00:00:00|          7.7|Hotel Arena|        Netherlands |         No Negative|                                0|                   1403| Public areas are...|                               33|                                         4|           7.1|[' Business trip ...|          35 days|52.3605759|4.9159683|\n",
      "| s Gravesandestra...|                         194|2017-06-20 00:00:00|          7.7|Hotel Arena|          Australia | We had issues wi...|                               73|                   1403| I liked the hote...|                               48|                                        16|           7.5|[' Leisure trip '...|          44 days|52.3605759|4.9159683|\n",
      "+--------------------+----------------------------+-------------------+-------------+-----------+--------------------+--------------------+---------------------------------+-----------------------+--------------------+---------------------------------+------------------------------------------+--------------+--------------------+-----------------+----------+---------+\n",
      "only showing top 20 rows\n",
      "\n"
     ]
    }
   ],
   "source": [
    "raw_reviews.show()"
   ]
  },
  {
   "cell_type": "code",
   "execution_count": 10,
   "metadata": {},
   "outputs": [],
   "source": [
    "# write raw reviews to mongo\n",
    "raw_reviews.write.format(\"mongo\").mode(\"append\").save()"
   ]
  }
 ],
 "metadata": {
  "kernelspec": {
   "display_name": "Python 3.7.4 64-bit ('base': conda)",
   "language": "python",
   "name": "python37464bitbaseconda68cf55bdff8c48af871f73713a4525a3"
  },
  "language_info": {
   "codemirror_mode": {
    "name": "ipython",
    "version": 3
   },
   "file_extension": ".py",
   "mimetype": "text/x-python",
   "name": "python",
   "nbconvert_exporter": "python",
   "pygments_lexer": "ipython3",
   "version": "3.7.4"
  }
 },
 "nbformat": 4,
 "nbformat_minor": 2
}
