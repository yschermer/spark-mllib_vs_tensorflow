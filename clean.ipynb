{
 "cells": [
  {
   "cell_type": "code",
   "execution_count": 1,
   "metadata": {},
   "outputs": [],
   "source": [
    "from pyspark import SparkConf, SparkContext\n",
    "\n",
    "from pyspark.sql import SparkSession\n",
    "from pyspark.sql.types import StructType, StructField, IntegerType, StringType\n",
    "from pyspark.sql import functions as F"
   ]
  },
  {
   "cell_type": "code",
   "execution_count": 2,
   "metadata": {},
   "outputs": [],
   "source": [
    "spark = SparkSession \\\n",
    "    .builder \\\n",
    "    .appName(\"clean\") \\\n",
    "    .config(\"spark.mongodb.input.uri\", \"mongodb://127.0.0.1/hotel.raw\") \\\n",
    "    .config(\"spark.mongodb.output.uri\", \"mongodb://127.0.0.1/hotel.clean\") \\\n",
    "    .config('spark.jars.packages', 'org.mongodb.spark:mongo-spark-connector_2.11:2.4.1') \\\n",
    "    .getOrCreate()"
   ]
  },
  {
   "cell_type": "code",
   "execution_count": 3,
   "metadata": {},
   "outputs": [],
   "source": [
    "raw_reviews = spark.read.format(\"mongo\").load()"
   ]
  },
  {
   "cell_type": "code",
   "execution_count": 4,
   "metadata": {
    "scrolled": true
   },
   "outputs": [
    {
     "name": "stdout",
     "output_type": "stream",
     "text": [
      "root\n",
      " |-- Additional_Number_of_Scoring: integer (nullable = true)\n",
      " |-- Average_Score: double (nullable = true)\n",
      " |-- Hotel_Address: string (nullable = true)\n",
      " |-- Hotel_Name: string (nullable = true)\n",
      " |-- Negative_Review: string (nullable = true)\n",
      " |-- Positive_Review: string (nullable = true)\n",
      " |-- Review_Date: timestamp (nullable = true)\n",
      " |-- Review_Total_Negative_Word_Counts: integer (nullable = true)\n",
      " |-- Review_Total_Positive_Word_Counts: integer (nullable = true)\n",
      " |-- Reviewer_Nationality: string (nullable = true)\n",
      " |-- Reviewer_Score: double (nullable = true)\n",
      " |-- Tags: string (nullable = true)\n",
      " |-- Total_Number_of_Reviews: integer (nullable = true)\n",
      " |-- Total_Number_of_Reviews_Reviewer_Has_Given: integer (nullable = true)\n",
      " |-- _id: struct (nullable = true)\n",
      " |    |-- oid: string (nullable = true)\n",
      " |-- days_since_review: string (nullable = true)\n",
      " |-- lat: decimal(9,7) (nullable = true)\n",
      " |-- lng: decimal(8,7) (nullable = true)\n",
      "\n"
     ]
    }
   ],
   "source": [
    "raw_reviews.printSchema()"
   ]
  },
  {
   "cell_type": "code",
   "execution_count": 5,
   "metadata": {},
   "outputs": [],
   "source": [
    "# take 25000 samples\n",
    "raw_reviews = spark.createDataFrame(raw_reviews.take(20000))"
   ]
  },
  {
   "cell_type": "code",
   "execution_count": 6,
   "metadata": {},
   "outputs": [],
   "source": [
    "useless_reviews = [\"NOTHING\", \"Nothing\", \"nothing\", \"Nothing at all\", \"No Negative\", \"No Positive\", \"n a\", \"N a\", \"N A\", \" \"]\n",
    "\n",
    "# prepare positive dataframe and negative dataframe for merging\n",
    "# AND remove useless reviews\n",
    "positive_reviews = raw_reviews \\\n",
    "    .select(\"average_score\", \"hotel_name\", \"review_date\", \"tags\", \"lat\", \"lng\", F.col(\"positive_review\").alias(\"review\")) \\\n",
    "    .filter(F.col(\"positive_review\").isin(useless_reviews) == False) \\\n",
    "    .withColumn(\"sentiment\", F.lit(1))\n",
    "negative_reviews = raw_reviews \\\n",
    "    .select(\"average_score\", \"hotel_name\", \"review_date\", \"tags\", \"lat\", \"lng\", F.col(\"negative_review\").alias(\"review\")) \\\n",
    "    .filter(F.col(\"negative_review\").isin(useless_reviews) == False) \\\n",
    "    .withColumn(\"sentiment\", F.lit(0))"
   ]
  },
  {
   "cell_type": "code",
   "execution_count": 7,
   "metadata": {},
   "outputs": [
    {
     "name": "stdout",
     "output_type": "stream",
     "text": [
      "positive reviews count:  17649\n",
      "negative reviews count:  14711\n"
     ]
    }
   ],
   "source": [
    "# analyze balance\n",
    "print(\"positive reviews count: \", positive_reviews.count())\n",
    "print(\"negative reviews count: \", negative_reviews.count())"
   ]
  },
  {
   "cell_type": "code",
   "execution_count": 8,
   "metadata": {},
   "outputs": [],
   "source": [
    "# merge positive and negative dataframe\n",
    "clean_reviews = positive_reviews.union(negative_reviews)\n",
    "\n",
    "# write clean reviews to mongo\n",
    "clean_reviews.write.format(\"mongo\").mode(\"append\").save()"
   ]
  },
  {
   "cell_type": "code",
   "execution_count": 9,
   "metadata": {},
   "outputs": [
    {
     "name": "stdout",
     "output_type": "stream",
     "text": [
      "root\n",
      " |-- average_score: double (nullable = true)\n",
      " |-- hotel_name: string (nullable = true)\n",
      " |-- review_date: timestamp (nullable = true)\n",
      " |-- tags: string (nullable = true)\n",
      " |-- lat: decimal(38,18) (nullable = true)\n",
      " |-- lng: decimal(38,18) (nullable = true)\n",
      " |-- review: string (nullable = true)\n",
      " |-- sentiment: integer (nullable = false)\n",
      "\n"
     ]
    }
   ],
   "source": [
    "clean_reviews.printSchema()"
   ]
  }
 ],
 "metadata": {
  "kernelspec": {
   "display_name": "Python 3.7.4 64-bit ('base': conda)",
   "language": "python",
   "name": "python37464bitbaseconda68cf55bdff8c48af871f73713a4525a3"
  },
  "language_info": {
   "codemirror_mode": {
    "name": "ipython",
    "version": 3
   },
   "file_extension": ".py",
   "mimetype": "text/x-python",
   "name": "python",
   "nbconvert_exporter": "python",
   "pygments_lexer": "ipython3",
   "version": "3.7.4"
  }
 },
 "nbformat": 4,
 "nbformat_minor": 2
}
